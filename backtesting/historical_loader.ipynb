{
 "cells": [
  {
   "cell_type": "code",
   "execution_count": 1,
   "metadata": {},
   "outputs": [
    {
     "name": "stdout",
     "output_type": "stream",
     "text": [
      "Fetching 155 JITOSOL historical APYs ...\n",
      "Fetching 78 BNSOL historical APYs ...\n",
      "Fetching 155 MSOL historical APYs ...\n",
      "Fetching 150 JUPSOL historical APYs ...\n",
      "Fetching 155 VSOL historical APYs ...\n",
      "Fetching 155 BSOL historical APYs ...\n",
      "Fetching 155 JSOL historical APYs ...\n",
      "Fetching 150 EDGESOL historical APYs ...\n",
      "Fetching 155 INF historical APYs ...\n",
      "Fetching 155 DSOL historical APYs ...\n",
      "Fetching 141 HSOL historical APYs ...\n",
      "Fetching 98 AEROSOL historical APYs ...\n",
      "Fetching 155 LST historical APYs ...\n",
      "Fetching 155 PICOSOL historical APYs ...\n",
      "Fetching 155 JUCYSOL historical APYs ...\n",
      "Fetching 120 MANGOSOL historical APYs ...\n",
      "Fetching 155 STRONGSOL historical APYs ...\n",
      "Fetching 155 BONKSOL historical APYs ...\n",
      "Fetching 155 LAINESOL historical APYs ...\n",
      "Fetching 145 PUMPKINSOL historical APYs ...\n",
      "Fetching 24 LAKESOL historical APYs ...\n",
      "Fetching 125 POLARSOL historical APYs ...\n"
     ]
    }
   ],
   "source": [
    "from datasource.sanctum import SanctumDataSource\n",
    "from datasource.types import HistoricalApy\n",
    "from constant.whitelist_lst import WEIGHTED_LST\n",
    "from constant.cache import CACHED_PATH\n",
    "from helper.historical import historical_apy_writer, load_cached_historical_apys, is_historical_apy_file_exists\n",
    "import time\n",
    "\n",
    "cached_path = CACHED_PATH\n",
    "lsts = WEIGHTED_LST\n",
    "\n",
    "for lst in lsts:\n",
    "    symbol = lst.symbol\n",
    "    historical_apys: list[HistoricalApy] = []\n",
    "    if is_historical_apy_file_exists(symbol):\n",
    "        historical_apys = load_cached_historical_apys(symbol)\n",
    "        print(f\"Loaded {len(historical_apys)} {symbol.upper()} historical APYs from cache\")\n",
    "    else:\n",
    "        historical_apys = SanctumDataSource().get_historical_apy(symbol, 400)\n",
    "        historical_apy_writer(symbol, historical_apys)\n",
    "        print(f\"Fetching {len(historical_apys)} {symbol.upper()} historical APYs ...\")\n",
    "        time.sleep(1)"
   ]
  }
 ],
 "metadata": {
  "kernelspec": {
   "display_name": "Python 3",
   "language": "python",
   "name": "python3"
  },
  "language_info": {
   "codemirror_mode": {
    "name": "ipython",
    "version": 3
   },
   "file_extension": ".py",
   "mimetype": "text/x-python",
   "name": "python",
   "nbconvert_exporter": "python",
   "pygments_lexer": "ipython3",
   "version": "3.12.4"
  }
 },
 "nbformat": 4,
 "nbformat_minor": 2
}
